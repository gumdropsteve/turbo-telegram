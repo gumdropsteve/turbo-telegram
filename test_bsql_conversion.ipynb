{
 "cells": [
  {
   "cell_type": "code",
   "execution_count": 1,
   "metadata": {},
   "outputs": [],
   "source": [
    "import numpy as np\n",
    "    # taxi data\n",
    "    def latlng_to_meters(table, \n",
    "                         lat_pickup='pickup_latitude', lng_pickup='pickup_longitude', \n",
    "                         lat_dropoff='dropoff_latitude', lng_dropoff='dropoff_longitude'):\n",
    "        # tag default shift\n",
    "        origin_shift = 2 * np.pi * 6378137 / 2.0\n",
    "        # tag columns we're not doing anything with \n",
    "        base_columns = '''VendorID, tpep_pickup_datetime, tpep_dropoff_datetime, passenger_count, \n",
    "                          trip_distance, RateCodeID, store_and_fwd_flag, payment_type, fare_amount, \n",
    "                          extra, mta_tax,  tip_amount, tolls_amount, improvement_surcharge, total_amount'''\n",
    "        # convert lat/lng coords within focused area to meters and return w/ base columns as pickup/dropoff x/y \n",
    "        latlng_to_meters = f'''\n",
    "                           select\n",
    "                               TAN( (90 + {lat_pickup}) * {np.pi} / 360.0 ) AS pickup_y,\n",
    "                               {lng_pickup} * {origin_shift} / 180.0 AS pickup_x,\n",
    "                               TAN( (90 + {lat_dropoff}) * {np.pi} / 360.0 ) AS dropoff_y,\n",
    "                               {lng_dropoff} * {origin_shift} / 180.0 AS dropoff_x,\n",
    "                               {base_columns}\n",
    "                           from \n",
    "                               {table}\n",
    "                               where\n",
    "                                       {lng_pickup} < -73.75\n",
    "                                   and {lng_pickup} > -74.15\n",
    "\n",
    "                                   and {lng_dropoff} < -73.75\n",
    "                                   and {lng_dropoff} > -74.15\n",
    "\n",
    "                                   and {lat_pickup} > 40.68\n",
    "                                   and {lat_pickup} < 40.84\n",
    "\n",
    "                                   and {lat_dropoff} > 40.68\n",
    "                                   and {lat_dropoff} < 40.84\n",
    "                                   '''  # bottom half focuses coords, top half converts to meters & renames\n",
    "        # run query & output results\n",
    "        gdf = bc.sql(latlng_to_meters)\n",
    "        # convert y columns w/ log\n",
    "        for col in ['pickup_y', 'dropoff_y']:\n",
    "            gdf[col] = np.log(gdf[col]) / (np.pi / 180.0)\n",
    "        return gdf"
   ]
  },
  {
   "cell_type": "code",
   "execution_count": 2,
   "metadata": {},
   "outputs": [
    {
     "name": "stdout",
     "output_type": "stream",
     "text": [
      "BlazingContext ready\n",
      "CPU times: user 2.25 s, sys: 502 ms, total: 2.75 s\n",
      "Wall time: 2.44 s\n"
     ]
    }
   ],
   "source": [
    "%%time\n",
    "from blazingsql import BlazingContext\n",
    "# start up BlazingSQL w/o memory pool\n",
    "bc = BlazingContext(pool=False)"
   ]
  },
  {
   "cell_type": "code",
   "execution_count": 3,
   "metadata": {},
   "outputs": [
    {
     "name": "stdout",
     "output_type": "stream",
     "text": [
      "CPU times: user 72.9 ms, sys: 39 ms, total: 112 ms\n",
      "Wall time: 7.82 s\n"
     ]
    }
   ],
   "source": [
    "%%time\n",
    "# copy csv download to new name (to use while downloading)\n",
    "!cp yellow_tripdata_2015-01.csv test_taxi.csv"
   ]
  },
  {
   "cell_type": "code",
   "execution_count": 4,
   "metadata": {},
   "outputs": [
    {
     "name": "stdout",
     "output_type": "stream",
     "text": [
      "CPU times: user 14 ms, sys: 0 ns, total: 14 ms\n",
      "Wall time: 13.1 ms\n"
     ]
    },
    {
     "data": {
      "text/plain": [
       "<pyblazing.apiv2.context.BlazingTable at 0x7f1c29429358>"
      ]
     },
     "execution_count": 4,
     "metadata": {},
     "output_type": "execute_result"
    }
   ],
   "source": [
    "%%time\n",
    "# create nyc taxi table\n",
    "bc.create_table('taxi_2015', '/home/jupyter-winston/turbo-telegram/test_taxi.csv', header=0)"
   ]
  },
  {
   "cell_type": "code",
   "execution_count": 5,
   "metadata": {},
   "outputs": [
    {
     "name": "stdout",
     "output_type": "stream",
     "text": [
      "CPU times: user 5.75 s, sys: 2.64 s, total: 8.39 s\n",
      "Wall time: 7.9 s\n"
     ]
    },
    {
     "data": {
      "text/html": [
       "<div>\n",
       "<style scoped>\n",
       "    .dataframe tbody tr th:only-of-type {\n",
       "        vertical-align: middle;\n",
       "    }\n",
       "\n",
       "    .dataframe tbody tr th {\n",
       "        vertical-align: top;\n",
       "    }\n",
       "\n",
       "    .dataframe thead th {\n",
       "        text-align: right;\n",
       "    }\n",
       "</style>\n",
       "<table border=\"1\" class=\"dataframe\">\n",
       "  <thead>\n",
       "    <tr style=\"text-align: right;\">\n",
       "      <th></th>\n",
       "      <th>VendorID</th>\n",
       "      <th>tpep_pickup_datetime</th>\n",
       "      <th>tpep_dropoff_datetime</th>\n",
       "      <th>passenger_count</th>\n",
       "      <th>trip_distance</th>\n",
       "      <th>pickup_longitude</th>\n",
       "      <th>pickup_latitude</th>\n",
       "      <th>RateCodeID</th>\n",
       "      <th>store_and_fwd_flag</th>\n",
       "      <th>dropoff_longitude</th>\n",
       "      <th>dropoff_latitude</th>\n",
       "      <th>payment_type</th>\n",
       "      <th>fare_amount</th>\n",
       "      <th>extra</th>\n",
       "      <th>mta_tax</th>\n",
       "      <th>tip_amount</th>\n",
       "      <th>tolls_amount</th>\n",
       "      <th>improvement_surcharge</th>\n",
       "      <th>total_amount</th>\n",
       "    </tr>\n",
       "  </thead>\n",
       "  <tbody>\n",
       "    <tr>\n",
       "      <th>12748984</th>\n",
       "      <td>1</td>\n",
       "      <td>2015-01-10 19:01:44</td>\n",
       "      <td>2015-01-10 19:17:03</td>\n",
       "      <td>1</td>\n",
       "      <td>1.3</td>\n",
       "      <td>-73.999565</td>\n",
       "      <td>40.738483</td>\n",
       "      <td>1</td>\n",
       "      <td>N</td>\n",
       "      <td>-73.981819</td>\n",
       "      <td>40.737652</td>\n",
       "      <td>1</td>\n",
       "      <td>10.5</td>\n",
       "      <td>0.0</td>\n",
       "      <td>0.5</td>\n",
       "      <td>2.25</td>\n",
       "      <td>0.0</td>\n",
       "      <td>0.3</td>\n",
       "      <td>13.55</td>\n",
       "    </tr>\n",
       "    <tr>\n",
       "      <th>12748985</th>\n",
       "      <td>1</td>\n",
       "      <td>2015-01-10 19:01:45</td>\n",
       "      <td>2015-01-10 19:07:33</td>\n",
       "      <td>1</td>\n",
       "      <td>0.7</td>\n",
       "      <td>-73.960350</td>\n",
       "      <td>40.766399</td>\n",
       "      <td>1</td>\n",
       "      <td>N</td>\n",
       "      <td>-73.968643</td>\n",
       "      <td>40.760777</td>\n",
       "      <td>2</td>\n",
       "      <td>5.5</td>\n",
       "      <td>0.0</td>\n",
       "      <td>0.5</td>\n",
       "      <td>0.00</td>\n",
       "      <td>0.0</td>\n",
       "      <td>0.3</td>\n",
       "      <td>6.30</td>\n",
       "    </tr>\n",
       "  </tbody>\n",
       "</table>\n",
       "</div>"
      ],
      "text/plain": [
       "          VendorID tpep_pickup_datetime tpep_dropoff_datetime  \\\n",
       "12748984         1  2015-01-10 19:01:44   2015-01-10 19:17:03   \n",
       "12748985         1  2015-01-10 19:01:45   2015-01-10 19:07:33   \n",
       "\n",
       "          passenger_count  trip_distance  pickup_longitude  pickup_latitude  \\\n",
       "12748984                1            1.3        -73.999565        40.738483   \n",
       "12748985                1            0.7        -73.960350        40.766399   \n",
       "\n",
       "          RateCodeID store_and_fwd_flag  dropoff_longitude  dropoff_latitude  \\\n",
       "12748984           1                  N         -73.981819         40.737652   \n",
       "12748985           1                  N         -73.968643         40.760777   \n",
       "\n",
       "          payment_type  fare_amount  extra  mta_tax  tip_amount  tolls_amount  \\\n",
       "12748984             1         10.5    0.0      0.5        2.25           0.0   \n",
       "12748985             2          5.5    0.0      0.5        0.00           0.0   \n",
       "\n",
       "          improvement_surcharge  total_amount  \n",
       "12748984                    0.3         13.55  \n",
       "12748985                    0.3          6.30  "
      ]
     },
     "execution_count": 5,
     "metadata": {},
     "output_type": "execute_result"
    }
   ],
   "source": [
    "%%time\n",
    "bc.sql('select * from taxi_2015').tail(2)"
   ]
  },
  {
   "cell_type": "code",
   "execution_count": 6,
   "metadata": {},
   "outputs": [],
   "source": [
    "# gdf = bc.sql('select * from taxi_2015')\n",
    "# type(gdf['pickup_latitude'][1])"
   ]
  },
  {
   "cell_type": "code",
   "execution_count": 7,
   "metadata": {},
   "outputs": [],
   "source": [
    "gdf = latlng_to_meters('taxi_2015')"
   ]
  },
  {
   "cell_type": "code",
   "execution_count": 9,
   "metadata": {},
   "outputs": [],
   "source": [
    "gdf.head(100000).to_csv('data/test_bsql_converted_taxi.csv')"
   ]
  }
 ],
 "metadata": {
  "kernelspec": {
   "display_name": "Python 3",
   "language": "python",
   "name": "python3"
  },
  "language_info": {
   "codemirror_mode": {
    "name": "ipython",
    "version": 3
   },
   "file_extension": ".py",
   "mimetype": "text/x-python",
   "name": "python",
   "nbconvert_exporter": "python",
   "pygments_lexer": "ipython3",
   "version": "3.6.7"
  }
 },
 "nbformat": 4,
 "nbformat_minor": 2
}
